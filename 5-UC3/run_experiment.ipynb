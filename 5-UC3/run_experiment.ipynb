{
 "cells": [
  {
   "cell_type": "code",
   "execution_count": null,
   "metadata": {
    "collapsed": true
   },
   "outputs": [],
   "source": [
    "from numena.io.drive import Directory\n",
    "from numena.io.image import imread_tiff\n",
    "from kartezio.fitness import FitnessAP\n",
    "from numena.image.threshold import threshold_tozero\n",
    "from kartezio.model.components import KartezioStacker\n",
    "from kartezio.dataset import read_dataset\n",
    "from kartezio.plot import plot_watershed\n",
    "from kartezio.inference import KartezioModel\n",
    "from numena.image.morphology import get_kernel\n",
    "from numena.geometry import Cell2D\n",
    "from numena.features.profiling import CellStainingProfile, ProfilingInfo\n",
    "import numpy as np\n",
    "import cv2\n",
    "import pandas as pd\n",
    "import seaborn as sns\n",
    "import matplotlib.pyplot as plt\n",
    "from sklearn.preprocessing import StandardScaler\n",
    "from sklearn.preprocessing import StandardScaler\n",
    "from sklearn.decomposition import PCA\n",
    "import umap.umap_ as umap\n",
    "from train_model import preprocessing"
   ]
  },
  {
   "cell_type": "code",
   "execution_count": null,
   "outputs": [],
   "source": [
    "MODEL_NAME = \"16425-b443195a-85d8-439a-992d-2f9112f1319c/elite.json\""
   ],
   "metadata": {
    "collapsed": false
   }
  },
  {
   "cell_type": "code",
   "execution_count": null,
   "outputs": [],
   "source": [
    "def labels_to_cells(labels_image):\n",
    "    kernel = get_kernel(\"circle\", 2)\n",
    "    label_numbers = np.unique(labels_image)\n",
    "    cells = []\n",
    "    for n in label_numbers:\n",
    "        if n == 0:\n",
    "            continue\n",
    "        mask = (labels_image == n).astype('uint8')\n",
    "        mask = cv2.morphologyEx(mask, cv2.MORPH_CLOSE, kernel)\n",
    "        mask= cv2.resize(mask, (1024, 1024))\n",
    "        new_cell = Cell2D.from_mask(mask, f'cell_{n}')\n",
    "        if new_cell is not None:\n",
    "            cells.append(new_cell)\n",
    "    return cells"
   ],
   "metadata": {
    "collapsed": false
   }
  },
  {
   "cell_type": "code",
   "execution_count": null,
   "outputs": [],
   "source": [
    "class MeanStackerSaver(KartezioStacker):\n",
    "    def _to_json_kwargs(self):\n",
    "        return {}\n",
    "\n",
    "    def __init__(self, name=\"mean_stacker_saver\", abbv=\"MEAN-saver\", arity=1, threshold=4):\n",
    "        super().__init__(name, abbv, arity)\n",
    "        self.threshold = threshold\n",
    "\n",
    "    def stack(self, Y):\n",
    "        for i in range(len(Y)):\n",
    "            heatmap_color = cv2.applyColorMap(Y[i], cv2.COLORMAP_VIRIDIS)\n",
    "            cv2.imwrite(f\"./results/output_z{i}.png\", heatmap_color)\n",
    "        return np.mean(np.array(Y), axis=0).astype(np.uint8)\n",
    "\n",
    "    def post_stack(self, x, index):\n",
    "        yi = x.copy()\n",
    "        heatmap_color = cv2.applyColorMap(yi, cv2.COLORMAP_VIRIDIS)\n",
    "        cv2.imwrite(\"./results/output_mean.png\", heatmap_color)\n",
    "        output = threshold_tozero(yi, self.threshold)\n",
    "        heatmap_color = cv2.applyColorMap(output, cv2.COLORMAP_VIRIDIS)\n",
    "        cv2.imwrite(\"./results/labels.png\", heatmap_color)\n",
    "        return output"
   ],
   "metadata": {
    "collapsed": false
   }
  },
  {
   "cell_type": "code",
   "execution_count": null,
   "outputs": [],
   "source": [
    "experiment_dataset = Directory(\"./dataset/experiment\")\n",
    "infos = ProfilingInfo(experiment_dataset / \"INFOS.json\")\n",
    "profiling = CellStainingProfile(infos)\n",
    "mapping = {}\n",
    "for filepath in experiment_dataset.ls(\"raw/*.tif\"):\n",
    "    filename = filepath.name\n",
    "    img = imread_tiff(filepath)\n",
    "    channels = [\n",
    "        img[:, 0],\n",
    "        img[:, 1],\n",
    "        img[:, 2],\n",
    "        img[:, 3],\n",
    "    ]\n",
    "    mapping[int(filename.split(\".\")[0])] = img"
   ],
   "metadata": {
    "collapsed": false
   }
  },
  {
   "cell_type": "code",
   "execution_count": null,
   "outputs": [],
   "source": [
    "dataset = read_dataset(str(experiment_dataset._path))\n",
    "model = KartezioModel(f\"./models/{MODEL_NAME}\", FitnessAP(thresholds=0.7))\n",
    "\n",
    "\n",
    "# Load the same model and change the Stacker by a custom one\n",
    "model_introspection = KartezioModel(f\"./models/{MODEL_NAME}\", FitnessAP(thresholds=0.7))\n",
    "model_introspection._model.parser.stacker = MeanStackerSaver()"
   ],
   "metadata": {
    "collapsed": false
   }
  },
  {
   "cell_type": "code",
   "execution_count": null,
   "outputs": [],
   "source": [
    "cell_features = []\n",
    "cells_object = []\n",
    "p, f, t = model.eval(dataset, subset=\"test\", reformat_x=preprocessing)\n",
    "ordered_keys = [1, 4, 9, 14, 16, 2, 3, 5, 6, 7, 8, 10, 11, 12, 13, 15, 17]\n",
    "for image_idx in range(len(dataset.test_x)):\n",
    "    plot_watershed(dataset.test_v[image_idx], p[image_idx][\"mask\"], p[image_idx][\"markers\"], p[image_idx][\"labels\"], gt=dataset.test_y[image_idx][0])\n",
    "    image_labels = p[image_idx][\"labels\"]\n",
    "    cells = labels_to_cells(image_labels)\n",
    "    channels = mapping[ordered_keys[image_idx]]\n",
    "\n",
    "    if image_idx == 2:\n",
    "        print(dataset.test_x[image_idx][0].shape, len(dataset.test_x[image_idx]))\n",
    "        y_hat, t = model_introspection.predict([dataset.test_x[image_idx]], reformat_x=preprocessing)\n",
    "        dt = y_hat[0][\"mask\"]\n",
    "        dt = (( dt / dt.max()) * 255).astype(np.uint8)\n",
    "        heatmap_color = cv2.applyColorMap(dt, cv2.COLORMAP_VIRIDIS)\n",
    "        cv2.imwrite(\"./results/distance_transform.png\", heatmap_color)\n",
    "\n",
    "    for cell in cells:\n",
    "        cells_object.append(cell)\n",
    "        profile = profiling.get_profile(cell, channels)\n",
    "        profile[0].append(cell.area)\n",
    "        profile[1].append(\"area\")\n",
    "        cell_features.append(profile[0])\n",
    "\n",
    "feature_name = profile[1]\n",
    "df = pd.DataFrame(cell_features, columns=feature_name)\n",
    "df = df[(df.area > 2000) & (df.area < 14000)]"
   ],
   "metadata": {
    "collapsed": false
   }
  },
  {
   "cell_type": "code",
   "execution_count": null,
   "outputs": [],
   "source": [
    "X = df.values[:, [0, 1, 2, 3, 4, 5, 6, 10, 13, 16]]\n",
    "scaler = StandardScaler().fit(X)\n",
    "X_scaled = scaler.transform(X)\n",
    "X_emb = umap.UMAP(n_neighbors=15, n_components=2).fit_transform(X_scaled)\n",
    "df_plot = df.copy()\n",
    "df_plot[\"UMAP-1\"] = X_emb[:, 0]\n",
    "df_plot[\"UMAP-2\"] = X_emb[:, 1]"
   ],
   "metadata": {
    "collapsed": false
   }
  },
  {
   "cell_type": "code",
   "execution_count": null,
   "outputs": [],
   "source": [
    "pparam = dict(xlabel=\"UMAP-1\") #, ylabel=\"UMAP-2\")\n",
    "\n",
    "for staining in [\"Perf+\", \"GzmB+\", \"Lamp+\", \"GzmB-Perf-Lamp\"]:\n",
    "    with plt.style.context([\"science\", \"nature\"]):\n",
    "        fig, ax = plt.subplots()\n",
    "        ax.tick_params(\n",
    "        axis='both',          # changes apply to the x-axis\n",
    "        which='both',      # both major and minor ticks are affected\n",
    "        bottom=False,      # ticks along the bottom edge are off\n",
    "        top=False,         # ticks along the top edge are off\n",
    "        right=False,\n",
    "        left=False,         # ticks along the top edge are off\n",
    "        labelbottom=False,\n",
    "        labelleft=False) # labels along the bottom edge are off\n",
    "        sns.scatterplot(data=df_plot, x=\"UMAP-1\", y=\"UMAP-2\", hue=staining, palette=\"viridis\", edgecolor=\"none\", ax=ax)\n",
    "        ax.legend(title=staining)\n",
    "        ax.set(**pparam)\n",
    "        fig.savefig(f\"./results/Fig4_defg_{staining}.png\", dpi=300)"
   ],
   "metadata": {
    "collapsed": false
   }
  },
  {
   "cell_type": "code",
   "execution_count": null,
   "outputs": [],
   "source": [],
   "metadata": {
    "collapsed": false
   }
  },
  {
   "cell_type": "code",
   "execution_count": null,
   "outputs": [],
   "source": [],
   "metadata": {
    "collapsed": false
   }
  },
  {
   "cell_type": "code",
   "execution_count": null,
   "outputs": [],
   "source": [],
   "metadata": {
    "collapsed": false
   }
  }
 ],
 "metadata": {
  "kernelspec": {
   "display_name": "Python 3",
   "language": "python",
   "name": "python3"
  },
  "language_info": {
   "codemirror_mode": {
    "name": "ipython",
    "version": 2
   },
   "file_extension": ".py",
   "mimetype": "text/x-python",
   "name": "python",
   "nbconvert_exporter": "python",
   "pygments_lexer": "ipython2",
   "version": "2.7.6"
  }
 },
 "nbformat": 4,
 "nbformat_minor": 0
}
